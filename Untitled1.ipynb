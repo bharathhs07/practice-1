{
 "cells": [
  {
   "cell_type": "code",
   "execution_count": 2,
   "id": "3c9b6a98",
   "metadata": {},
   "outputs": [
    {
     "data": {
      "text/plain": [
       "'bharath hs'"
      ]
     },
     "execution_count": 2,
     "metadata": {},
     "output_type": "execute_result"
    }
   ],
   "source": [
    "\"bharath hs\""
   ]
  },
  {
   "cell_type": "code",
   "execution_count": 3,
   "id": "475671b7",
   "metadata": {},
   "outputs": [
    {
     "data": {
      "text/plain": [
       "'hello world'"
      ]
     },
     "execution_count": 3,
     "metadata": {},
     "output_type": "execute_result"
    }
   ],
   "source": [
    "\"hello world\""
   ]
  },
  {
   "cell_type": "code",
   "execution_count": 4,
   "id": "99adea1f",
   "metadata": {},
   "outputs": [
    {
     "data": {
      "text/plain": [
       "'Pateince, Perseverence'"
      ]
     },
     "execution_count": 4,
     "metadata": {},
     "output_type": "execute_result"
    }
   ],
   "source": [
    "\"Pateince, Perseverence\""
   ]
  },
  {
   "cell_type": "code",
   "execution_count": null,
   "id": "d7511b11",
   "metadata": {},
   "outputs": [],
   "source": []
  }
 ],
 "metadata": {
  "kernelspec": {
   "display_name": "Python 3 (ipykernel)",
   "language": "python",
   "name": "python3"
  },
  "language_info": {
   "codemirror_mode": {
    "name": "ipython",
    "version": 3
   },
   "file_extension": ".py",
   "mimetype": "text/x-python",
   "name": "python",
   "nbconvert_exporter": "python",
   "pygments_lexer": "ipython3",
   "version": "3.9.12"
  }
 },
 "nbformat": 4,
 "nbformat_minor": 5
}
